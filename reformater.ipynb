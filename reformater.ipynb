{
 "cells": [
  {
   "cell_type": "code",
   "execution_count": 7,
   "id": "0214e1c0-8fe6-4fbd-b483-ab57bc9c593d",
   "metadata": {},
   "outputs": [],
   "source": [
    "from pydub import AudioSegment\n",
    "import os"
   ]
  },
  {
   "cell_type": "code",
   "execution_count": 8,
   "id": "d55f8781-da6d-4e63-97da-f046178d084b",
   "metadata": {},
   "outputs": [
    {
     "name": "stdout",
     "output_type": "stream",
     "text": [
      "/mnt/g/onlinelessons/Multimedia/HW/project/dataset/raw_data/ahmad/telegram_audio 10.ogg\n",
      "New Audio file is created and saved\n",
      "/mnt/g/onlinelessons/Multimedia/HW/project/dataset/raw_data/ahmad/telegram_audio 11.ogg\n",
      "New Audio file is created and saved\n",
      "/mnt/g/onlinelessons/Multimedia/HW/project/dataset/raw_data/ahmad/telegram_audio 12.ogg\n",
      "New Audio file is created and saved\n",
      "/mnt/g/onlinelessons/Multimedia/HW/project/dataset/raw_data/ahmad/telegram_audio 13.ogg\n",
      "New Audio file is created and saved\n",
      "/mnt/g/onlinelessons/Multimedia/HW/project/dataset/raw_data/ahmad/telegram_audio 14.ogg\n",
      "New Audio file is created and saved\n",
      "/mnt/g/onlinelessons/Multimedia/HW/project/dataset/raw_data/ahmad/telegram_audio 15.ogg\n",
      "New Audio file is created and saved\n",
      "/mnt/g/onlinelessons/Multimedia/HW/project/dataset/raw_data/ahmad/telegram_audio 16.ogg\n",
      "New Audio file is created and saved\n",
      "/mnt/g/onlinelessons/Multimedia/HW/project/dataset/raw_data/ahmad/telegram_audio 17.ogg\n",
      "New Audio file is created and saved\n",
      "/mnt/g/onlinelessons/Multimedia/HW/project/dataset/raw_data/ahmad/telegram_audio 18.ogg\n",
      "New Audio file is created and saved\n",
      "/mnt/g/onlinelessons/Multimedia/HW/project/dataset/raw_data/ahmad/telegram_audio 19.ogg\n",
      "New Audio file is created and saved\n",
      "/mnt/g/onlinelessons/Multimedia/HW/project/dataset/raw_data/ahmad/telegram_audio 2.ogg\n",
      "New Audio file is created and saved\n",
      "/mnt/g/onlinelessons/Multimedia/HW/project/dataset/raw_data/ahmad/telegram_audio 20.ogg\n",
      "New Audio file is created and saved\n",
      "/mnt/g/onlinelessons/Multimedia/HW/project/dataset/raw_data/ahmad/telegram_audio 21.ogg\n",
      "New Audio file is created and saved\n",
      "/mnt/g/onlinelessons/Multimedia/HW/project/dataset/raw_data/ahmad/telegram_audio 22.ogg\n",
      "New Audio file is created and saved\n",
      "/mnt/g/onlinelessons/Multimedia/HW/project/dataset/raw_data/ahmad/telegram_audio 23.ogg\n",
      "New Audio file is created and saved\n",
      "/mnt/g/onlinelessons/Multimedia/HW/project/dataset/raw_data/ahmad/telegram_audio 24.ogg\n",
      "New Audio file is created and saved\n",
      "/mnt/g/onlinelessons/Multimedia/HW/project/dataset/raw_data/ahmad/telegram_audio 25.ogg\n",
      "New Audio file is created and saved\n",
      "/mnt/g/onlinelessons/Multimedia/HW/project/dataset/raw_data/ahmad/telegram_audio 3.ogg\n",
      "New Audio file is created and saved\n",
      "/mnt/g/onlinelessons/Multimedia/HW/project/dataset/raw_data/ahmad/telegram_audio 4.ogg\n",
      "New Audio file is created and saved\n",
      "/mnt/g/onlinelessons/Multimedia/HW/project/dataset/raw_data/ahmad/telegram_audio 5.ogg\n",
      "New Audio file is created and saved\n",
      "/mnt/g/onlinelessons/Multimedia/HW/project/dataset/raw_data/ahmad/telegram_audio 6.ogg\n",
      "New Audio file is created and saved\n",
      "/mnt/g/onlinelessons/Multimedia/HW/project/dataset/raw_data/ahmad/telegram_audio 7.ogg\n",
      "New Audio file is created and saved\n",
      "/mnt/g/onlinelessons/Multimedia/HW/project/dataset/raw_data/ahmad/telegram_audio 8.ogg\n",
      "New Audio file is created and saved\n",
      "/mnt/g/onlinelessons/Multimedia/HW/project/dataset/raw_data/ahmad/telegram_audio 9.ogg\n",
      "New Audio file is created and saved\n",
      "/mnt/g/onlinelessons/Multimedia/HW/project/dataset/raw_data/ahmad/telegram_audio.ogg\n",
      "New Audio file is created and saved\n"
     ]
    }
   ],
   "source": [
    "for d in os.listdir(\"./dataset/raw_data/ahmad/\"):\n",
    "\n",
    "    path_to_file = \"/mnt/g/onlinelessons/Multimedia/HW/project/dataset/raw_data/ahmad/\" + d\n",
    "    \n",
    "    if path_to_file.split(\".\")[-1] != \"ogg\":\n",
    "        continue\n",
    "    \n",
    "    print(path_to_file)\n",
    "    \n",
    "    new_name = path_to_file.split(\".\")[-2] + \".wav\"\n",
    "    ogg_audio = AudioSegment.from_file(path_to_file, format=\"ogg\")\n",
    "    \n",
    "    # Export the audio in WAV format\n",
    "    ogg_audio.export(new_name, format=\"wav\")\n",
    "    \n",
    "    os.remove(path_to_file)\n",
    "    \n",
    "    print(\"New Audio file is created and saved\")\n"
   ]
  },
  {
   "cell_type": "code",
   "execution_count": null,
   "id": "4431f3c0-1986-4c00-ac43-b6d921c0cf16",
   "metadata": {},
   "outputs": [],
   "source": []
  },
  {
   "cell_type": "code",
   "execution_count": null,
   "id": "874e8951-6185-42e0-8524-b9a6b7be587b",
   "metadata": {},
   "outputs": [],
   "source": []
  },
  {
   "cell_type": "code",
   "execution_count": null,
   "id": "a10bad37-da71-468a-a3a0-4913a2bb8cc1",
   "metadata": {},
   "outputs": [],
   "source": []
  }
 ],
 "metadata": {
  "kernelspec": {
   "display_name": "Python 3 (ipykernel)",
   "language": "python",
   "name": "python3"
  },
  "language_info": {
   "codemirror_mode": {
    "name": "ipython",
    "version": 3
   },
   "file_extension": ".py",
   "mimetype": "text/x-python",
   "name": "python",
   "nbconvert_exporter": "python",
   "pygments_lexer": "ipython3",
   "version": "3.10.11"
  }
 },
 "nbformat": 4,
 "nbformat_minor": 5
}
