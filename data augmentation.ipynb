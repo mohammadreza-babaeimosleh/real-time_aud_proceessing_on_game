{
 "cells": [
  {
   "cell_type": "code",
   "execution_count": null,
   "id": "5a129a18-5f4d-4161-bef2-0f1991913639",
   "metadata": {},
   "outputs": [],
   "source": [
    "import os\n",
    "import soundfile as sf\n",
    "from pydub import AudioSegment\n",
    "import librosa\n",
    "import numpy as np\n",
    "\n",
    "import numpy as np\n",
    "from keras.models import Sequential\n",
    "from keras.layers import Dense, Flatten, Dropout, Conv2D, MaxPooling2D, BatchNormalization, Activation\n",
    "from keras.callbacks import EarlyStopping\n",
    "from sklearn.preprocessing import LabelEncoder\n",
    "# from sklearn.preprocessing import MinMaxScaler\n",
    "from keras.utils import to_categorical\n",
    "from scipy.io.wavfile import write\n",
    "# import tensorflow as tf\n",
    "\n",
    "import matplotlib.pyplot as plt\n",
    "import cv2\n",
    "\n",
    "import colorednoise as cn"
   ]
  },
  {
   "cell_type": "code",
   "execution_count": null,
   "id": "d438cd35-bf0e-4b56-a450-996d3d796cb2",
   "metadata": {},
   "outputs": [],
   "source": [
    "def manipulate(data, noise_factor):\n",
    "    pink_noise = cn.powerlaw_psd_gaussian(1, data.shape[0])\n",
    "    augmented_data = data + noise_factor * pink_noise\n",
    "    # Cast back to same data type\n",
    "    augmented_data = augmented_data.astype(type(data[0]))\n",
    "    return augmented_data"
   ]
  },
  {
   "cell_type": "code",
   "execution_count": null,
   "id": "e9640578-4eb1-44e0-95fb-cd4b13e07067",
   "metadata": {},
   "outputs": [],
   "source": [
    "desiredSampleRate = 16000\n",
    "for directory in [\"up\", \"down\", \"left\", \"right\"]:\n",
    "    for d in os.listdir(\"./dataset/proccessed/\" + directory):\n",
    "           \n",
    "        path_to_file = \"/mnt/g/onlinelessons/Multimedia/HW/project/dataset/proccessed/\" + directory + '/'+ d\n",
    "        \n",
    "        output_filepath = os.path.splitext(path_to_file)[0] + '.wav'\n",
    "        output_filepath_n = os.path.splitext(path_to_file)[0] + \"_noise\" +  '.wav'\n",
    "        \n",
    "        audio = AudioSegment.from_file(path_to_file)\n",
    "        # Set the sample width to 2 bytes (16-bit)\n",
    "        audio = audio.set_sample_width(2)\n",
    "        \n",
    "        audio.export(output_filepath, format='wav')\n",
    "        \n",
    "        audio, sr = librosa.load(output_filepath, sr= desiredSampleRate, mono=True)\n",
    "\n",
    "        audio_n = manipulate(audio, 0.00001)\n",
    "        write(output_filepath_n, desiredSampleRate, audio_n)\n",
    "        audio = librosa.to_mono(audio)\n",
    "        librosa.resample(audio, sr, desiredSampleRate)\n",
    "        audio = librosa.util.normalize(audio)\n",
    "        audio = audio.reshape(-1, 1)    \n",
    "        \n",
    "        sf.write(output_filepath, audio, sr, 'PCM_24')\n",
    "        sf.write(output_filepath_n, audio_n, sr, 'PCM_24')"
   ]
  }
 ],
 "metadata": {
  "kernelspec": {
   "display_name": "Python 3 (ipykernel)",
   "language": "python",
   "name": "python3"
  },
  "language_info": {
   "codemirror_mode": {
    "name": "ipython",
    "version": 3
   },
   "file_extension": ".py",
   "mimetype": "text/x-python",
   "name": "python",
   "nbconvert_exporter": "python",
   "pygments_lexer": "ipython3",
   "version": "3.10.11"
  }
 },
 "nbformat": 4,
 "nbformat_minor": 5
}
