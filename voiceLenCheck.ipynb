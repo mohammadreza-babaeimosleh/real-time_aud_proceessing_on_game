{
 "cells": [
  {
   "cell_type": "code",
   "execution_count": 5,
   "id": "fac542e6-383c-4f89-b731-9a1a302d7709",
   "metadata": {},
   "outputs": [],
   "source": [
    "from pydub import AudioSegment\n",
    "import os"
   ]
  },
  {
   "cell_type": "code",
   "execution_count": 6,
   "id": "780c3231-4061-49a5-ba9d-12c233d2b669",
   "metadata": {},
   "outputs": [
    {
     "name": "stdout",
     "output_type": "stream",
     "text": [
      "# of deleted files is 0\n",
      "All Done\n"
     ]
    }
   ],
   "source": [
    "error_flag = 0\n",
    "counter = 0\n",
    "for directory in [\"up\", \"down\", \"left\", \"right\"]:\n",
    "    for d in os.listdir(\"./dataset/proccessed/\" + directory):\n",
    "        \n",
    "        path_to_file = \"/mnt/g/onlinelessons/Multimedia/HW/project/dataset/proccessed/\" + directory + '/'+ d\n",
    "        \n",
    "        file = AudioSegment.from_file(path_to_file)\n",
    "        \n",
    "        if(file.duration_seconds < 3.0):\n",
    "            print(f\"found error in file: \\n {path_to_file} \\n duration is : {file.duration_seconds}\")\n",
    "            os.remove(path_to_file)\n",
    "            counter += 1\n",
    "            error_flag = 1\n",
    "        \n",
    "print(f\"# of deleted files is {counter}\")\n",
    "        \n",
    "if(~error_flag):\n",
    "    print(\"All Done\")\n",
    "        "
   ]
  },
  {
   "cell_type": "code",
   "execution_count": null,
   "id": "4fb43680-6f3a-404b-b648-f62eee80713a",
   "metadata": {},
   "outputs": [],
   "source": []
  }
 ],
 "metadata": {
  "kernelspec": {
   "display_name": "Python 3 (ipykernel)",
   "language": "python",
   "name": "python3"
  },
  "language_info": {
   "codemirror_mode": {
    "name": "ipython",
    "version": 3
   },
   "file_extension": ".py",
   "mimetype": "text/x-python",
   "name": "python",
   "nbconvert_exporter": "python",
   "pygments_lexer": "ipython3",
   "version": "3.10.11"
  }
 },
 "nbformat": 4,
 "nbformat_minor": 5
}
