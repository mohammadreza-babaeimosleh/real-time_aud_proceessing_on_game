{
 "cells": [
  {
   "cell_type": "code",
   "execution_count": 1,
   "id": "1e29560d-9067-4112-ae2b-429dfcc56492",
   "metadata": {},
   "outputs": [],
   "source": [
    "import sounddevice as sd\n",
    "import torchaudio\n",
    "\n",
    "# Load a stereo audio file\n",
    "waveform, sample_rate = torchaudio.load('/mnt/g/onlinelessons/Multimedia/HW/project/dataset/final_data/train/up/up5.wav')\n",
    "\n",
    "# Get the left and right channels of the audio\n",
    "left_channel = waveform[0]\n",
    "right_channel = waveform[1]\n",
    "\n",
    "# Play the left and right channels separately\n",
    "sd.play(left_channel.numpy(), sample_rate)\n",
    "sd.wait()\n",
    "sd.play(right_channel.numpy(), sample_rate)\n",
    "sd.wait()"
   ]
  }
 ],
 "metadata": {
  "kernelspec": {
   "display_name": "Python 3 (ipykernel)",
   "language": "python",
   "name": "python3"
  },
  "language_info": {
   "codemirror_mode": {
    "name": "ipython",
    "version": 3
   },
   "file_extension": ".py",
   "mimetype": "text/x-python",
   "name": "python",
   "nbconvert_exporter": "python",
   "pygments_lexer": "ipython3",
   "version": "3.10.11"
  }
 },
 "nbformat": 4,
 "nbformat_minor": 5
}
